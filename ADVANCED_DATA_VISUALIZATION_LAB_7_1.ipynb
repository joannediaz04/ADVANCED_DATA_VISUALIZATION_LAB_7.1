{
  "nbformat": 4,
  "nbformat_minor": 0,
  "metadata": {
    "colab": {
      "provenance": [],
      "authorship_tag": "ABX9TyPlWuOWL16t/rJY14umgTtY",
      "include_colab_link": true
    },
    "kernelspec": {
      "name": "python3",
      "display_name": "Python 3"
    },
    "language_info": {
      "name": "python"
    }
  },
  "cells": [
    {
      "cell_type": "markdown",
      "metadata": {
        "id": "view-in-github",
        "colab_type": "text"
      },
      "source": [
        "<a href=\"https://colab.research.google.com/github/joannediaz04/ADVANCED_DATA_VISUALIZATION_LAB_7.1/blob/main/ADVANCED_DATA_VISUALIZATION_LAB_7_1.ipynb\" target=\"_parent\"><img src=\"https://colab.research.google.com/assets/colab-badge.svg\" alt=\"Open In Colab\"/></a>"
      ]
    },
    {
      "cell_type": "code",
      "execution_count": 1,
      "metadata": {
        "colab": {
          "base_uri": "https://localhost:8080/"
        },
        "id": "47dABJ6LzGnS",
        "outputId": "904d8720-7f08-4978-8d32-7d1e44a01005"
      },
      "outputs": [
        {
          "output_type": "stream",
          "name": "stdout",
          "text": [
            "What is the temperature outside?:44\n",
            "the temperatureis good today\n",
            "can go outside\n"
          ]
        }
      ],
      "source": [
        "temp = int(input(\"What is the temperature outside?:\"))\n",
        "\n",
        "if temp >=0 and temp <=44:\n",
        "  print(\"the temperatureis good today\")\n",
        "  print(\"can go outside\")"
      ]
    }
  ]
}